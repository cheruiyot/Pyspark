{
 "cells": [
  {
   "cell_type": "code",
   "execution_count": 1,
   "metadata": {},
   "outputs": [],
   "source": [
    "import findspark\n",
    "findspark.init()\n",
    "findspark.find()\n",
    "import pyspark\n",
    "findspark.find()\n",
    "\n",
    "#alwaysimport this for every pyspark analytics\n",
    "from pyspark.sql.functions import to_timestamp\n",
    "from pyspark.sql.functions import to_date\n",
    "from pyspark.sql.functions import from_utc_timestamp\n",
    "from pyspark import SparkContext, SparkConf\n",
    "from pyspark.sql import SparkSession\n",
    "from pyspark.sql.functions import col\n",
    "conf = pyspark.SparkConf().setAppName('appName').setMaster('local')\n",
    "sc = SparkContext.getOrCreate()\n",
    "spark = SparkSession(sc)\n",
    "\n",
    "\n",
    "import ts.flint\n",
    "from ts.flint import FlintContext\n",
    "flintContext = FlintContext(spark)"
   ]
  },
  {
   "cell_type": "code",
   "execution_count": 2,
   "metadata": {},
   "outputs": [
    {
     "name": "stdout",
     "output_type": "stream",
     "text": [
      "+----------+------+--------+\n",
      "|partition2|maxsum|maxcount|\n",
      "+----------+------+--------+\n",
      "|   1234567|130000|       3|\n",
      "+----------+------+--------+\n",
      "\n",
      "+-------------+-------------+-----+-------------------+------+-------+---------+--------------------+--------------------+----------+---------+--------------------+-----------+----------+------+--------+\n",
      "|     FIELD102|     FIELD103|DATEX|       DATEX_parsed|FIELD4|FIELD39|NARRATION|             FIELD68|                time|   timenew|partition|occurrences_in_5_min|sumin30mins|partition2|maxsum|maxcount|\n",
      "+-------------+-------------+-----+-------------------+------+-------+---------+--------------------+--------------------+----------+---------+--------------------+-----------+----------+------+--------+\n",
      "| 254720489010|         null|43875|2020-02-14 03:00:00| 45100|      0|  SUCCESS|254720489010 2547...|2020-02-14 11:07:...|1581667631|  1234567|                   4|     615100|   1234567|130000|       3|\n",
      "| 254720489010|1240000000000|43875|2020-02-14 03:00:00| 45100|      0|  SUCCESS|254720489010 2547...|2020-02-14 11:07:...|1581667632|  1234567|                   5|     660200|   1234567|130000|       3|\n",
      "| 254720489010|         null|43875|2020-02-14 03:00:00| 35200|      0|  SUCCESS|254720489010 2547...|2020-02-14 11:20:...|1581668458|  1234567|                   6|     695400|   1234567|130000|       3|\n",
      "| 254720489010|1240000000000|43875|2020-02-14 03:00:00| 35200|      0|  SUCCESS|254720489010 2547...|2020-02-14 11:20:...|1581668459|  1234567|                   7|     730600|   1234567|130000|       3|\n",
      "| 254720489010|         null|43875|2020-02-14 03:00:00| 35140|      0|  SUCCESS|254720489010 2547...|2020-02-14 11:32:...|1581669156|  1234567|                   8|     765740|   1234567|130000|       3|\n",
      "| 254720489010|1240000000000|43875|2020-02-14 03:00:00| 35140|      0|  SUCCESS|254720489010 2547...|2020-02-14 11:32:...|1581669157|  1234567|                   9|     800880|   1234567|130000|       3|\n",
      "| 254720489010|1240000000000|43875|2020-02-14 03:00:00| 35600|      0|  SUCCESS|254720489010 2547...|2020-02-14 11:43:...|1581669797|  1234567|                  10|     837080|   1234567|130000|       3|\n",
      "| 254720489010|         null|43875|2020-02-14 03:00:00| 35600|      0|  SUCCESS|254720489010 2547...|2020-02-14 11:43:...|1581669797|  1234567|                  10|     837080|   1234567|130000|       3|\n",
      "| 254720489010|         null|43875|2020-02-14 03:00:00| 35200|      0|  SUCCESS|254720489010 2547...|2020-02-14 11:47:...|1581670059|  1234567|                  10|     372480|   1234567|130000|       3|\n",
      "| 254720489010|1240000000000|43875|2020-02-14 03:00:00| 35200|      0|  SUCCESS|254720489010 2547...|2020-02-14 11:47:...|1581670059|  1234567|                  10|     372480|   1234567|130000|       3|\n",
      "| 254720489010|         null|43875|2020-02-14 03:00:00| 10000|      0|  SUCCESS|254720489010 2547...|2020-02-14 12:16:...|1581671801|  1234567|                   9|     292280|   1234567|130000|       3|\n",
      "| 254720489010|1240000000000|43875|2020-02-14 03:00:00| 10000|      0|  SUCCESS|254720489010 2547...|2020-02-14 12:16:...|1581671802|  1234567|                  10|     302280|   1234567|130000|       3|\n",
      "|1109039870300|   1169571573|43875|2020-02-14 03:00:00| 40000|      0|  SUCCESS|01109039870300 11...|2020-02-14 15:08:...|1581682097|  1234567|                   4|     245000|   1234567|130000|       3|\n",
      "|1109039870300| 110194000000|43875|2020-02-14 03:00:00| 40000|      0|  SUCCESS|01109039870300 01...|2020-02-14 15:10:...|1581682218|  1234567|                   5|     285000|   1234567|130000|       3|\n",
      "|1109039870300| 110194000000|43875|2020-02-14 03:00:00| 40000|      0|  SUCCESS|REV-0110903987030...|2020-02-14 15:10:...|1581682219|  1234567|                   6|     325000|   1234567|130000|       3|\n",
      "|1109039870300|   1241248842|43875|2020-02-14 03:00:00|140000|      0|  SUCCESS|REV-0110903987030...|2020-02-14 16:46:...|1581687967|  1234567|                   4|     560000|   1234567|130000|       3|\n",
      "| 254720489010|   1241248842|43875|2020-02-14 03:00:00| 42000|      0|  SUCCESS|254720489010 1241...|2020-02-14 19:17:...|1581697059|  1234567|                   4|     224000|   1234567|130000|       3|\n",
      "| 254720489010|   1241248842|43875|2020-02-14 03:00:00| 42000|      0|  SUCCESS|254720489010 1241...|2020-02-14 19:17:...|1581697059|  1234567|                   4|     224000|   1234567|130000|       3|\n",
      "| 254720489010|   1241248842|43875|2020-02-14 03:00:00|  2000|      0|  SUCCESS|254720489010 1241...|2020-02-14 19:25:...|1581697522|  1234567|                   6|     228000|   1234567|130000|       3|\n",
      "| 254720489010|   1241248842|43875|2020-02-14 03:00:00|  2000|      0|  SUCCESS|254720489010 1241...|2020-02-14 19:25:...|1581697522|  1234567|                   6|     228000|   1234567|130000|       3|\n",
      "+-------------+-------------+-----+-------------------+------+-------+---------+--------------------+--------------------+----------+---------+--------------------+-----------+----------+------+--------+\n",
      "\n"
     ]
    }
   ],
   "source": [
    "\n",
    "from pyspark.sql.window import Window\n",
    "import pyspark.sql.functions as F\n",
    "from pyspark.sql.functions import mean, col\n",
    "\n",
    "\n",
    "sp500 = spark.read.option('header', True).option('inferSchema', True).csv(\"C:\\\\Users\\\\brono\\\\OneDrive - NetGuardians SA\\\\Desktop2\\\\023-Coop\\\\Test_last5.csv\").withColumnRenamed('RESPONSETIME_CHANNEL_parsed', 'time')\n",
    "#sp500.show(100)\n",
    " \n",
    "\n",
    "sp500 = sp500.withColumn('timenew',sp500.time.astype('Timestamp').cast(\"long\")).sort(col('timenew'))\n",
    "\n",
    "sp500 = sp500.withColumn('partition',F.lit(\"1234567\"))\n",
    "\n",
    "#sp500.show()\n",
    "\n",
    "sp500x =sp500.filter(sp500.NARRATION.contains('SUCCESS'))\n",
    "sp500x1 =sp500x.filter(sp500.timenew < 1581665845)\n",
    "\n",
    "\n",
    "\n",
    "w = Window.partitionBy('partition').orderBy('timenew').rangeBetween(-60*60,0)\n",
    "sp500x2 = sp500x1.withColumn('occurrences_in_5_min',F.count('timenew').over(w)).withColumn('sumin30mins',F.sum('FIELD4').over(w))\n",
    "w21 = Window.partitionBy('partition')\n",
    "\n",
    "\n",
    "#.orderBy('timenew')\n",
    "sp500x20 = sp500x2.withColumn('maxcount',F.max('occurrences_in_5_min').over(w21)).withColumn('maxsum',F.max('sumin30mins').over(w21))\n",
    "sp500xfin =sp500x20.select(col('partition').alias('partition2'),'maxsum','maxcount')\n",
    "sp500xfin =sp500xfin.dropDuplicates(subset=['partition2'])\n",
    "\n",
    "sp500xfin.show()\n",
    "#sp500x2.sort(desc(\"occurrences_in_5_min\"),desc(\"sumin30mins\"))\n",
    "#.show()\n",
    "\n",
    "#maxcount, max_sum = sp500x2.select(max(\"occurrences_in_5_min\"), max(\"sumin30mins\")).first()\n",
    "\n",
    "\n",
    "\n",
    "\n",
    "sp500x3 =sp500x.filter(sp500.timenew > 1581665845)\n",
    "\n",
    "w = Window.partitionBy('partition').orderBy('timenew').rangeBetween(-60*60,0)\n",
    "sp500x3 = sp500x3.withColumn('occurrences_in_5_min',F.count('timenew').over(w)).withColumn('sumin30mins',F.sum('FIELD4').over(w))\n",
    "\n",
    "\n",
    "\n",
    "#sp500x3.show()\n",
    "\n",
    "finaldf = sp500x3.join(sp500xfin, sp500x3.partition == sp500xfin.partition2, how='cross')\n",
    "\n",
    "#finaldf = finaldf.dropDuplicates(subset=['timenew','FIELD4']).filter((finaldf.occurrences_in_5_min > finaldf.maxcount) & (finaldf.sumin30mins > finaldf.maxsum))\n",
    "\n",
    "#finaldf.show()\n",
    "\n",
    "\n",
    "finaldf = finaldf.filter((finaldf.occurrences_in_5_min > finaldf.maxcount) & (finaldf.sumin30mins > finaldf.maxsum))\n",
    "\n",
    "\n",
    "finaldf.sort(finaldf.timenew).show()\n",
    "\n",
    "\n",
    "\n",
    "#sp500x4 =sp500x3.filter((sp500x3.occurrences_in_5_min > maxcount) & (sp500x3.sumin30mins > max_sum))\n",
    "\n",
    "#maxdate, min_date = sp500x4.select(max(\"timenew\"), min(\"timenew\")).first()\n",
    "\n",
    "#lowerdate=maxdate+-60*45*12\n",
    "\n",
    "#sp500x4.show(100)\n",
    "\n",
    "\n",
    "#w3 = Window.partitionBy('FIELD102').orderBy('timenew').rangeBetween(-60*30,maxdate)\n",
    "#sp500final = sp500x.filter(F.col(\"timenew\").between(lowerdate,maxdate))\n",
    "\n",
    "\n",
    "#sp500final.show(100)\n",
    "\n",
    "\n",
    "#sp5001=sp5001.filter(sp500.DATEX_parsed.contains('2020-02-14'))\n",
    "\n",
    "\n",
    "\n",
    "\n",
    "#limit = (sp5001.select(F.max(F.col(\"occurrences_in_5_min\"))).limit(1).collect()[0])\n",
    "\n",
    "\n",
    "\n",
    "\n",
    "#print(maxdate)\n",
    "\n",
    "#print(lowerdate)\n",
    "#print(maxcount)\n",
    "#print(max_sum)\n",
    "#desc(\"recent\"), asc(\"Freq\"), asc(\"Monitor\")\n",
    "\n",
    "\n"
   ]
  },
  {
   "cell_type": "code",
   "execution_count": 3,
   "metadata": {},
   "outputs": [
    {
     "ename": "NameError",
     "evalue": "name 'sp500x4' is not defined",
     "output_type": "error",
     "traceback": [
      "\u001b[1;31m---------------------------------------------------------------------------\u001b[0m",
      "\u001b[1;31mNameError\u001b[0m                                 Traceback (most recent call last)",
      "\u001b[1;32m<ipython-input-3-ebce1de6f885>\u001b[0m in \u001b[0;36m<module>\u001b[1;34m\u001b[0m\n\u001b[1;32m----> 1\u001b[1;33m \u001b[0msp500x4\u001b[0m\u001b[1;33m.\u001b[0m\u001b[0mprintSchema\u001b[0m\u001b[1;33m(\u001b[0m\u001b[1;33m)\u001b[0m\u001b[1;33m\u001b[0m\u001b[1;33m\u001b[0m\u001b[0m\n\u001b[0m",
      "\u001b[1;31mNameError\u001b[0m: name 'sp500x4' is not defined"
     ]
    }
   ],
   "source": [
    "sp500x4.printSchema()"
   ]
  },
  {
   "cell_type": "code",
   "execution_count": 4,
   "metadata": {},
   "outputs": [
    {
     "name": "stdout",
     "output_type": "stream",
     "text": [
      "+-------------+-------------+-----+-------------------+------+-------+---------+--------------------+--------------------+----------+---------+--------------------+-----------+\n",
      "|     FIELD102|     FIELD103|DATEX|       DATEX_parsed|FIELD4|FIELD39|NARRATION|             FIELD68|                time|   timenew|partition|occurrences_in_5_min|sumin30mins|\n",
      "+-------------+-------------+-----+-------------------+------+-------+---------+--------------------+--------------------+----------+---------+--------------------+-----------+\n",
      "|1109039870300| 254724000000|43875|2020-02-14 03:00:00| 35000|      0|  SUCCESS|REV-0110903987030...|2020-02-14 10:37:...|1581665846|  1234567|                   1|      35000|\n",
      "|1109039870300|         null|43875|2020-02-14 03:00:00| 35000|      0|  SUCCESS|01109039870300 25...|2020-02-14 10:46:...|1581666413|  1234567|                   3|     570000|\n",
      "|1109039870300|         null|43875|2020-02-14 03:00:00|500000|      0|  SUCCESS|979326 KES 500000...|2020-02-14 10:46:...|1581666413|  1234567|                   3|     570000|\n",
      "| 254720489010|         null|43875|2020-02-14 03:00:00| 45100|      0|  SUCCESS|254720489010 2547...|2020-02-14 11:07:...|1581667631|  1234567|                   4|     615100|\n",
      "| 254720489010|1240000000000|43875|2020-02-14 03:00:00| 45100|      0|  SUCCESS|254720489010 2547...|2020-02-14 11:07:...|1581667632|  1234567|                   5|     660200|\n",
      "| 254720489010|         null|43875|2020-02-14 03:00:00| 35200|      0|  SUCCESS|254720489010 2547...|2020-02-14 11:20:...|1581668458|  1234567|                   6|     695400|\n",
      "| 254720489010|1240000000000|43875|2020-02-14 03:00:00| 35200|      0|  SUCCESS|254720489010 2547...|2020-02-14 11:20:...|1581668459|  1234567|                   7|     730600|\n",
      "| 254720489010|         null|43875|2020-02-14 03:00:00| 35140|      0|  SUCCESS|254720489010 2547...|2020-02-14 11:32:...|1581669156|  1234567|                   8|     765740|\n",
      "| 254720489010|1240000000000|43875|2020-02-14 03:00:00| 35140|      0|  SUCCESS|254720489010 2547...|2020-02-14 11:32:...|1581669157|  1234567|                   9|     800880|\n",
      "| 254720489010|1240000000000|43875|2020-02-14 03:00:00| 35600|      0|  SUCCESS|254720489010 2547...|2020-02-14 11:43:...|1581669797|  1234567|                  10|     837080|\n",
      "| 254720489010|         null|43875|2020-02-14 03:00:00| 35600|      0|  SUCCESS|254720489010 2547...|2020-02-14 11:43:...|1581669797|  1234567|                  10|     837080|\n",
      "| 254720489010|         null|43875|2020-02-14 03:00:00| 35200|      0|  SUCCESS|254720489010 2547...|2020-02-14 11:47:...|1581670059|  1234567|                  10|     372480|\n",
      "| 254720489010|1240000000000|43875|2020-02-14 03:00:00| 35200|      0|  SUCCESS|254720489010 2547...|2020-02-14 11:47:...|1581670059|  1234567|                  10|     372480|\n",
      "| 254720489010|         null|43875|2020-02-14 03:00:00| 10000|      0|  SUCCESS|254720489010 2547...|2020-02-14 12:16:...|1581671801|  1234567|                   9|     292280|\n",
      "| 254720489010|1240000000000|43875|2020-02-14 03:00:00| 10000|      0|  SUCCESS|254720489010 2547...|2020-02-14 12:16:...|1581671802|  1234567|                  10|     302280|\n",
      "| 254720489010|   1241248842|43875|2020-02-14 03:00:00|140000|      0|  SUCCESS|254720489010 1241...|2020-02-14 13:30:...|1581676245|  1234567|                   1|     140000|\n",
      "| 254720489010|   1241248842|43875|2020-02-14 03:00:00|140000|      0|  SUCCESS|254720489010 1241...|2020-02-14 13:30:...|1581676246|  1234567|                   2|     280000|\n",
      "|1109039870300|   1270357417|43875|2020-02-14 03:00:00|140000|      0|  SUCCESS|01109039870300 12...|2020-02-14 13:39:...|1581676767|  1234567|                   3|     420000|\n",
      "|1109039870300| 110194000000|43875|2020-02-14 03:00:00|100000|      0|  SUCCESS|01109039870300 01...|2020-02-14 14:36:...|1581680217|  1234567|                   2|     240000|\n",
      "|1109039870300|   1169571573|43875|2020-02-14 03:00:00|100000|      0|  SUCCESS|01109039870300 11...|2020-02-14 14:38:...|1581680304|  1234567|                   3|     340000|\n",
      "|1109039870300|   1007347916|43875|2020-02-14 03:00:00|  5000|      0|  SUCCESS|01109039870300 10...|2020-02-14 14:50:...|1581681058|  1234567|                   3|     205000|\n",
      "|1109039870300|   1169571573|43875|2020-02-14 03:00:00| 40000|      0|  SUCCESS|01109039870300 11...|2020-02-14 15:08:...|1581682097|  1234567|                   4|     245000|\n",
      "|1109039870300| 110194000000|43875|2020-02-14 03:00:00| 40000|      0|  SUCCESS|01109039870300 01...|2020-02-14 15:10:...|1581682218|  1234567|                   5|     285000|\n",
      "|1109039870300| 110194000000|43875|2020-02-14 03:00:00| 40000|      0|  SUCCESS|REV-0110903987030...|2020-02-14 15:10:...|1581682219|  1234567|                   6|     325000|\n",
      "|1109039870300|   1270357417|43875|2020-02-14 03:00:00|140000|      0|  SUCCESS|01109039870300 12...|2020-02-14 16:38:...|1581687493|  1234567|                   1|     140000|\n",
      "|1109039870300|   1270357417|43875|2020-02-14 03:00:00|140000|      0|  SUCCESS|REV-0110903987030...|2020-02-14 16:38:...|1581687494|  1234567|                   2|     280000|\n",
      "|1109039870300|   1241248842|43875|2020-02-14 03:00:00|140000|      0|  SUCCESS|01109039870300 12...|2020-02-14 16:46:...|1581687966|  1234567|                   3|     420000|\n",
      "|1109039870300|   1241248842|43875|2020-02-14 03:00:00|140000|      0|  SUCCESS|REV-0110903987030...|2020-02-14 16:46:...|1581687967|  1234567|                   4|     560000|\n",
      "| 254720489010|   1241248842|43875|2020-02-14 03:00:00| 70000|      0|  SUCCESS|254720489010 1241...|2020-02-14 19:14:...|1581696894|  1234567|                   2|     140000|\n",
      "| 254720489010|   1241248842|43875|2020-02-14 03:00:00| 70000|      0|  SUCCESS|254720489010 1241...|2020-02-14 19:14:...|1581696894|  1234567|                   2|     140000|\n",
      "| 254720489010|   1241248842|43875|2020-02-14 03:00:00| 42000|      0|  SUCCESS|254720489010 1241...|2020-02-14 19:17:...|1581697059|  1234567|                   4|     224000|\n",
      "| 254720489010|   1241248842|43875|2020-02-14 03:00:00| 42000|      0|  SUCCESS|254720489010 1241...|2020-02-14 19:17:...|1581697059|  1234567|                   4|     224000|\n",
      "| 254720489010|   1241248842|43875|2020-02-14 03:00:00|  2000|      0|  SUCCESS|254720489010 1241...|2020-02-14 19:25:...|1581697522|  1234567|                   6|     228000|\n",
      "| 254720489010|   1241248842|43875|2020-02-14 03:00:00|  2000|      0|  SUCCESS|254720489010 1241...|2020-02-14 19:25:...|1581697522|  1234567|                   6|     228000|\n",
      "+-------------+-------------+-----+-------------------+------+-------+---------+--------------------+--------------------+----------+---------+--------------------+-----------+\n",
      "\n"
     ]
    }
   ],
   "source": [
    "sp50013 =sp500x3.filter(sp500x3.DATEX_parsed.contains('2020-02-14'))\n",
    "sp50013.sort(col('timenew')).show(100)"
   ]
  },
  {
   "cell_type": "code",
   "execution_count": 5,
   "metadata": {},
   "outputs": [
    {
     "ename": "NameError",
     "evalue": "name 'sp5001' is not defined",
     "output_type": "error",
     "traceback": [
      "\u001b[1;31m---------------------------------------------------------------------------\u001b[0m",
      "\u001b[1;31mNameError\u001b[0m                                 Traceback (most recent call last)",
      "\u001b[1;32m<ipython-input-5-b394afadbb8c>\u001b[0m in \u001b[0;36m<module>\u001b[1;34m\u001b[0m\n\u001b[0;32m      5\u001b[0m \u001b[1;33m\u001b[0m\u001b[0m\n\u001b[0;32m      6\u001b[0m \u001b[1;31m#sp5004 =sp500.filter(sp500.occurrences_in_5_min > 1)\u001b[0m\u001b[1;33m\u001b[0m\u001b[1;33m\u001b[0m\u001b[1;33m\u001b[0m\u001b[0m\n\u001b[1;32m----> 7\u001b[1;33m \u001b[0msp5004\u001b[0m \u001b[1;33m=\u001b[0m\u001b[0msp5001\u001b[0m\u001b[1;33m.\u001b[0m\u001b[0mfilter\u001b[0m\u001b[1;33m(\u001b[0m\u001b[0msp500\u001b[0m\u001b[1;33m.\u001b[0m\u001b[0mDATEX_parsed\u001b[0m\u001b[1;33m.\u001b[0m\u001b[0mcontains\u001b[0m\u001b[1;33m(\u001b[0m\u001b[1;34m'2018-04-26'\u001b[0m\u001b[1;33m)\u001b[0m\u001b[1;33m)\u001b[0m\u001b[1;33m\u001b[0m\u001b[1;33m\u001b[0m\u001b[0m\n\u001b[0m\u001b[0;32m      8\u001b[0m \u001b[0msp5004\u001b[0m\u001b[1;33m.\u001b[0m\u001b[0msort\u001b[0m\u001b[1;33m(\u001b[0m\u001b[0mcol\u001b[0m\u001b[1;33m(\u001b[0m\u001b[1;34m'timenew'\u001b[0m\u001b[1;33m)\u001b[0m\u001b[1;33m)\u001b[0m\u001b[1;33m.\u001b[0m\u001b[0mshow\u001b[0m\u001b[1;33m(\u001b[0m\u001b[1;36m100\u001b[0m\u001b[1;33m)\u001b[0m\u001b[1;33m\u001b[0m\u001b[1;33m\u001b[0m\u001b[0m\n",
      "\u001b[1;31mNameError\u001b[0m: name 'sp5001' is not defined"
     ]
    }
   ],
   "source": [
    "#sp500 = sp500.withColumn('counter',\n",
    " # F.when((F.col(\"occurrences_in_5_min\") > 4), \"True\")\\\n",
    "#.otherwise(\"False\")\n",
    "#)\n",
    "\n",
    "#sp5004 =sp500.filter(sp500.occurrences_in_5_min > 1)\n",
    "sp5004 =sp5001.filter(sp500.DATEX_parsed.contains('2018-04-26'))\n",
    "sp5004.sort(col('timenew')).show(100)"
   ]
  },
  {
   "cell_type": "code",
   "execution_count": null,
   "metadata": {},
   "outputs": [],
   "source": [
    "#from pyspark.sql.window import Window\n",
    "#from pyspark.sql.functions import *\n",
    "#import numpy as np \n",
    "#from pyspark.sql.types import FloatType\n",
    "\n",
    "#w = Window.partitionBy('FIELD102').orderBy('timenew').rangeBetween(-60*30,0)\n",
    "#count_udf = udf(lambda x: float(np.count(x)), FloatType())\n",
    "\n",
    "#sp5001.filter(sp500.DATEX_parsed.contains('2020-02-14')).withColumn(\"list\", collect_list(\"timenew\").over(w)) \\\n",
    " # .withColumn(\"rolling_count\", count_udf(\"list\")).show(truncate = False)"
   ]
  },
  {
   "cell_type": "code",
   "execution_count": 6,
   "metadata": {},
   "outputs": [
    {
     "ename": "NameError",
     "evalue": "name 'sp5001' is not defined",
     "output_type": "error",
     "traceback": [
      "\u001b[1;31m---------------------------------------------------------------------------\u001b[0m",
      "\u001b[1;31mNameError\u001b[0m                                 Traceback (most recent call last)",
      "\u001b[1;32m<ipython-input-6-a24129e7cab5>\u001b[0m in \u001b[0;36m<module>\u001b[1;34m\u001b[0m\n\u001b[0;32m      9\u001b[0m \u001b[1;33m\u001b[0m\u001b[0m\n\u001b[0;32m     10\u001b[0m \u001b[1;31m#sp50067=sp5001.filter(sp500.DATEX_parsed.contains('2020-02-14'))\u001b[0m\u001b[1;33m\u001b[0m\u001b[1;33m\u001b[0m\u001b[1;33m\u001b[0m\u001b[0m\n\u001b[1;32m---> 11\u001b[1;33m \u001b[0msp50067\u001b[0m\u001b[1;33m=\u001b[0m\u001b[0msp5001\u001b[0m\u001b[1;33m.\u001b[0m\u001b[0mwithColumn\u001b[0m\u001b[1;33m(\u001b[0m\u001b[1;34m\"list\"\u001b[0m\u001b[1;33m,\u001b[0m \u001b[0mcollect_list\u001b[0m\u001b[1;33m(\u001b[0m\u001b[1;34m\"timenew\"\u001b[0m\u001b[1;33m)\u001b[0m\u001b[1;33m.\u001b[0m\u001b[0mover\u001b[0m\u001b[1;33m(\u001b[0m\u001b[0mw\u001b[0m\u001b[1;33m)\u001b[0m\u001b[1;33m)\u001b[0m\u001b[1;33m\u001b[0m\u001b[1;33m\u001b[0m\u001b[0m\n\u001b[0m\u001b[0;32m     12\u001b[0m \u001b[1;33m\u001b[0m\u001b[0m\n\u001b[0;32m     13\u001b[0m \u001b[0msp50067\u001b[0m\u001b[1;33m=\u001b[0m\u001b[0msp50067\u001b[0m\u001b[1;33m.\u001b[0m\u001b[0mwithColumn\u001b[0m\u001b[1;33m(\u001b[0m\u001b[1;34m\"rolling_count\"\u001b[0m\u001b[1;33m,\u001b[0m\u001b[0msize\u001b[0m\u001b[1;33m(\u001b[0m\u001b[0msp50067\u001b[0m\u001b[1;33m.\u001b[0m\u001b[0mlist\u001b[0m\u001b[1;33m)\u001b[0m\u001b[1;33m)\u001b[0m\u001b[1;33m\u001b[0m\u001b[1;33m\u001b[0m\u001b[0m\n",
      "\u001b[1;31mNameError\u001b[0m: name 'sp5001' is not defined"
     ]
    }
   ],
   "source": [
    "from pyspark.sql.window import Window\n",
    "from pyspark.sql.functions import *\n",
    "import numpy as np \n",
    "from pyspark.sql.types import FloatType\n",
    "\n",
    "\n",
    "w = Window.partitionBy('FIELD102').orderBy('timenew').rangeBetween(-60*30,0)\n",
    "count_udf = udf(lambda x: float(count(x)), FloatType())\n",
    "\n",
    "#sp50067=sp5001.filter(sp500.DATEX_parsed.contains('2020-02-14'))\n",
    "sp50067=sp5001.withColumn(\"list\", collect_list(\"timenew\").over(w))\n",
    "\n",
    "sp50067=sp50067.withColumn(\"rolling_count\",size(sp50067.list))\n",
    "\n",
    "sp50067=sp50067.filter(sp500.DATEX_parsed.contains('2020-02-14'))\n",
    "\n",
    "sp50067.sort(col('timenew')).show(100)\n",
    "\n",
    "sp5004.sort(col('timenew')).show(100)"
   ]
  },
  {
   "cell_type": "code",
   "execution_count": null,
   "metadata": {},
   "outputs": [],
   "source": []
  }
 ],
 "metadata": {
  "kernelspec": {
   "display_name": "Python 3",
   "language": "python",
   "name": "python3"
  },
  "language_info": {
   "codemirror_mode": {
    "name": "ipython",
    "version": 3
   },
   "file_extension": ".py",
   "mimetype": "text/x-python",
   "name": "python",
   "nbconvert_exporter": "python",
   "pygments_lexer": "ipython3",
   "version": "3.7.4"
  }
 },
 "nbformat": 4,
 "nbformat_minor": 2
}
